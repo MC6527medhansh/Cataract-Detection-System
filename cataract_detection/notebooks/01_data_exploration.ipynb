{
 "cells": [
  {
   "cell_type": "code",
   "execution_count": 2,
   "metadata": {},
   "outputs": [
    {
     "name": "stdout",
     "output_type": "stream",
     "text": [
      "train folder contains:\n",
      "  0: 55162 images\n",
      "  1: 18470 images\n",
      "  4: 9475 images\n",
      "  3: 7936 images\n",
      "  2: 24198 images\n",
      "val folder contains:\n",
      "  0: 6895 images\n",
      "  1: 1840 images\n",
      "  4: 1468 images\n",
      "  3: 1000 images\n",
      "  2: 3024 images\n",
      "test folder contains:\n",
      "  0: 6896 images\n",
      "  1: 1862 images\n",
      "  4: 1466 images\n",
      "  3: 978 images\n",
      "  2: 2999 images\n"
     ]
    }
   ],
   "source": [
    "import os\n",
    "\n",
    "data_dir = \"../dataset/augmented_resized_V2\"\n",
    "for split in [\"train\", \"val\", \"test\"]:\n",
    "    split_dir = os.path.join(data_dir, split)\n",
    "    print(f\"{split} folder contains:\")\n",
    "    for class_dir in os.listdir(split_dir):\n",
    "        class_path = os.path.join(split_dir, class_dir)\n",
    "        print(f\"  {class_dir}: {len(os.listdir(class_path))} images\")\n"
   ]
  }
 ],
 "metadata": {
  "kernelspec": {
   "display_name": "venv",
   "language": "python",
   "name": "python3"
  },
  "language_info": {
   "codemirror_mode": {
    "name": "ipython",
    "version": 3
   },
   "file_extension": ".py",
   "mimetype": "text/x-python",
   "name": "python",
   "nbconvert_exporter": "python",
   "pygments_lexer": "ipython3",
   "version": "3.11.7"
  }
 },
 "nbformat": 4,
 "nbformat_minor": 2
}
